{
 "cells": [
  {
   "cell_type": "code",
   "execution_count": 1,
   "id": "1d6094ce",
   "metadata": {},
   "outputs": [],
   "source": [
    "from langchain_community.tools import ArxivQueryRun, WikipediaQueryRun\n",
    "from langchain_community.utilities import WikipediaAPIWrapper, ArxivAPIWrapper"
   ]
  },
  {
   "cell_type": "code",
   "execution_count": 2,
   "id": "96b93285",
   "metadata": {},
   "outputs": [
    {
     "data": {
      "text/plain": [
       "\"Published: 2024-07-22\\nTitle: Attention Is All You Need But You Don't Need All Of It For Inference of Large Language Models\\nAuthors: Georgy Tyukin, Gbetondji J-S Dovonon, Jean Kaddour, Pasquale Minervini\\nSummary: The inference demand for LLMs has skyrocketed in recent months, and serving\\nmodels with low latencies remains challenging due to the quadratic input length\\ncomplexity of the attention layers. In this work, we investigate the effect of\\ndropping MLP and attention layers at inference time o\""
      ]
     },
     "execution_count": 2,
     "metadata": {},
     "output_type": "execute_result"
    }
   ],
   "source": [
    "api_wrapper_arxiv = ArxivAPIWrapper(top_k_results = 2, doc_content_chars_max = 500)\n",
    "arxiv = ArxivQueryRun(api_wrapper = api_wrapper_arxiv, description = \"Query Arxiv Papers\")\n",
    "\n",
    "arxiv.invoke(\"Attention is all you need\")"
   ]
  },
  {
   "cell_type": "code",
   "execution_count": 3,
   "id": "d562035b",
   "metadata": {},
   "outputs": [
    {
     "data": {
      "text/plain": [
       "'Page: Large language model\\nSummary: A large language model (LLM) is a language model trained with self-supervised machine learning on a vast amount of text, designed for natural language processing tasks, especially language generation.\\nThe largest and most capable LLMs are generative pretrained transformers (GPTs), which are largely used in generative chatbots such as ChatGPT or Gemini. LLMs can be fine-tuned for specific tasks or guided by prompt engineering. These models acquire predictive po'"
      ]
     },
     "execution_count": 3,
     "metadata": {},
     "output_type": "execute_result"
    }
   ],
   "source": [
    "wikipedia_wrapper_api = WikipediaAPIWrapper(top_k_results = 2, doc_content_chars_max = 500)\n",
    "wikipedia = WikipediaQueryRun(api_wrapper = wikipedia_wrapper_api, description = \"Wikipedia Content\")\n",
    "wikipedia.invoke(\"Large Language Models\")"
   ]
  },
  {
   "cell_type": "code",
   "execution_count": 4,
   "id": "79177a5f",
   "metadata": {},
   "outputs": [],
   "source": [
    "import os\n",
    "from dotenv import load_dotenv\n",
    "\n",
    "GROQ_API_KEY = os.getenv(\"GROQ_API_KEY\")\n",
    "TAVILY_API_KEY = os.getenv(\"TAVILY_API_KEY\")"
   ]
  },
  {
   "cell_type": "code",
   "execution_count": 5,
   "id": "137df7e6",
   "metadata": {},
   "outputs": [
    {
     "name": "stderr",
     "output_type": "stream",
     "text": [
      "C:\\Users\\M Rishit Varma\\AppData\\Local\\Temp\\ipykernel_18796\\1591566517.py:3: LangChainDeprecationWarning: The class `TavilySearchResults` was deprecated in LangChain 0.3.25 and will be removed in 1.0. An updated version of the class exists in the :class:`~langchain-tavily package and should be used instead. To use it run `pip install -U :class:`~langchain-tavily` and import as `from :class:`~langchain_tavily import TavilySearch``.\n",
      "  tavily = TavilySearchResults()\n"
     ]
    },
    {
     "data": {
      "text/plain": [
       "[{'title': 'Latest AI Breakthroughs and News: May-June 2025 - Crescendo.ai',\n",
       "  'url': 'https://www.crescendo.ai/news/latest-ai-news-and-updates',\n",
       "  'content': '**Date:** June 1, 2025  \\n**Summary:** Ukraine reportedly used AI-enhanced drone swarms in a covert mission dubbed â\\x80\\x9cOperation Spider Webâ\\x80\\x9d to target a Russian bomber. The drones, said to cost as little as the price of an iPhone 16 Pro, represent a new phase of low-cost autonomous warfare. [...] **Date:** May 30, 2025  \\n**Summary:** Nvidia CEO Jensen Huang issued a bold warning about the rapid evolution of AI, emphasizing that people who fail to adopt AI in their workflow risk being replaced by those who do. His comments underline the urgency for upskilling in a transforming job market. [...] **Date:** May 31, 2025  \\n**Summary:** Monash University has announced a landmark investment in an AI supercomputer, becoming the first higher education institute in Australia to do so. The system will significantly accelerate national research across AI, medicine, and engineering fields.',\n",
       "  'score': 0.8576849}]"
      ]
     },
     "execution_count": 5,
     "metadata": {},
     "output_type": "execute_result"
    }
   ],
   "source": [
    "from langchain_community.tools.tavily_search import TavilySearchResults\n",
    "\n",
    "tavily = TavilySearchResults()\n",
    "tavily.invoke(\"What is the latest news in AI\")"
   ]
  },
  {
   "cell_type": "code",
   "execution_count": 6,
   "id": "2fda06ba",
   "metadata": {},
   "outputs": [],
   "source": [
    "# Combine all the tools\n",
    "tools = [arxiv, wikipedia, tavily]"
   ]
  },
  {
   "cell_type": "code",
   "execution_count": 25,
   "id": "a959ae04",
   "metadata": {},
   "outputs": [
    {
     "data": {
      "text/plain": [
       "AIMessage(content='\\n<think>\\nOkay, the user said \"Hi Qwen!\" so I should respond in a friendly way. I need to make sure to keep it simple and positive. Maybe start with a greeting back, like \"Hello!\" then mention that I\\'m here to help. I can add an emoji to keep it friendly. Let me check if there\\'s anything else to include. Oh, maybe offer assistance with whatever they need. Yeah, that should cover it. Let me put that together.\\n\\nWait, should I use more than one emoji? Maybe just one is enough. Also, make sure the tone is approachable. Alright, that\\'s all. Let me write the response now.\\n</think>\\n\\nHello! 😊 I\\'m Qwen, and I\\'m here to help you with anything you need. How can I assist you today?', additional_kwargs={}, response_metadata={'token_usage': {'completion_tokens': 165, 'prompt_tokens': 14, 'total_tokens': 179, 'completion_time': 0.379220239, 'prompt_time': 0.002762936, 'queue_time': 0.299697834, 'total_time': 0.381983175}, 'model_name': 'qwen-qwq-32b', 'system_fingerprint': 'fp_a91d9c2cfb', 'finish_reason': 'stop', 'logprobs': None}, id='run--70fb86e4-519c-44ed-9f63-6366c4192c0c-0', usage_metadata={'input_tokens': 14, 'output_tokens': 165, 'total_tokens': 179})"
      ]
     },
     "execution_count": 25,
     "metadata": {},
     "output_type": "execute_result"
    }
   ],
   "source": [
    "from langchain_groq import ChatGroq\n",
    "\n",
    "llm1 = ChatGroq(model = \"qwen-qwq-32b\", api_key = GROQ_API_KEY)\n",
    "llm1.invoke(\"Hi Qwen!\")"
   ]
  },
  {
   "cell_type": "code",
   "execution_count": 23,
   "id": "fe0f2d38",
   "metadata": {},
   "outputs": [
    {
     "data": {
      "text/plain": [
       "AIMessage(content='Hi there! 👋\\n\\nWhat can I do for you today? 😊\\n', additional_kwargs={}, response_metadata={'token_usage': {'completion_tokens': 17, 'prompt_tokens': 12, 'total_tokens': 29, 'completion_time': 0.030909091, 'prompt_time': 0.001924677, 'queue_time': 0.24856984299999998, 'total_time': 0.032833768}, 'model_name': 'gemma2-9b-it', 'system_fingerprint': 'fp_10c08bf97d', 'finish_reason': 'stop', 'logprobs': None}, id='run--ca4e89e6-f903-4bba-b0dd-529a8c8b8de9-0', usage_metadata={'input_tokens': 12, 'output_tokens': 17, 'total_tokens': 29})"
      ]
     },
     "execution_count": 23,
     "metadata": {},
     "output_type": "execute_result"
    }
   ],
   "source": [
    "llm2 = ChatGroq(model = \"gemma2-9b-it\", api_key = GROQ_API_KEY)\n",
    "llm2.invoke(\"Hi Gemini!\")"
   ]
  },
  {
   "cell_type": "code",
   "execution_count": 26,
   "id": "09f59fd5",
   "metadata": {},
   "outputs": [
    {
     "data": {
      "text/plain": [
       "AIMessage(content='', additional_kwargs={'tool_calls': [{'id': '2md203ja1', 'function': {'arguments': '{\"query\":\"latest research papers\"}', 'name': 'arxiv'}, 'type': 'function'}]}, response_metadata={'token_usage': {'completion_tokens': 418, 'prompt_tokens': 268, 'total_tokens': 686, 'completion_time': 1.01627084, 'prompt_time': 0.018748638, 'queue_time': 0.479511851, 'total_time': 1.035019478}, 'model_name': 'qwen-qwq-32b', 'system_fingerprint': 'fp_1e88ca32eb', 'finish_reason': 'tool_calls', 'logprobs': None}, id='run--331e569a-d145-426b-be72-ec9084f21c29-0', tool_calls=[{'name': 'arxiv', 'args': {'query': 'latest research papers'}, 'id': '2md203ja1', 'type': 'tool_call'}], usage_metadata={'input_tokens': 268, 'output_tokens': 418, 'total_tokens': 686})"
      ]
     },
     "execution_count": 26,
     "metadata": {},
     "output_type": "execute_result"
    }
   ],
   "source": [
    "llm_with_tools = llm1.bind_tools(tools = tools)\n",
    "llm_with_tools.invoke(\"Get me top latest research papers\")"
   ]
  },
  {
   "cell_type": "code",
   "execution_count": 33,
   "id": "99666eca",
   "metadata": {},
   "outputs": [],
   "source": [
    "from typing_extensions import TypedDict\n",
    "from typing import Annotated\n",
    "from langchain_core.messages import AnyMessage, HumanMessage, AIMessage\n",
    "from langgraph.graph.message import add_messages\n",
    "\n",
    "class State(TypedDict):\n",
    "    messages: Annotated[list[AnyMessage], add_messages]"
   ]
  },
  {
   "cell_type": "code",
   "execution_count": null,
   "id": "d522996f",
   "metadata": {},
   "outputs": [
    {
     "data": {
      "image/png": "[encoded data removed]",
      "text/plain": [
       "<IPython.core.display.Image object>"
      ]
     },
     "metadata": {},
     "output_type": "display_data"
    }
   ],
   "source": [
    "from IPython.display import Image, display\n",
    "from langgraph.graph import START, END, StateGraph\n",
    "from langgraph.prebuilt import ToolNode, tools_condition\n",
    "\n",
    "def tool_calling_llm(state:State):\n",
    "    return {\"messages\":[llm_with_tools.invoke(state[\"messages\"])]}\n",
    "\n",
    "def summarizer(state:State):\n",
    "    content = \"\\n\".join([\n",
    "        m.content for m in state[\"messages\"]\n",
    "        if isinstance(m, (HumanMessage, AIMessage)) and isinstance(m.content, str)\n",
    "    ])\n",
    "    summary = llm2.invoke([HumanMessage(content = f\"Please summarize:\\n\\n{content}\")])\n",
    "    return {\"messages\": [summary]}\n",
    "\n",
    "builder = StateGraph(State)\n",
    "\n",
    "builder.add_node(\"tool_calling_llm\", tool_calling_llm)\n",
    "builder.add_node(\"tools\",ToolNode(tools))\n",
    "builder.add_node(\"summarizer\", summarizer)\n",
    "\n",
    "builder.add_edge(START, \"tool_calling_llm\")\n",
    "builder.add_conditional_edges(\"tool_calling_llm\",tools_condition)\n",
    "builder.add_edge(\"tools\",\"tool_calling_llm\")\n",
    "builder.add_edge(\"tool_calling_llm\",\"summarizer\")\n",
    "\n",
    "graph = builder.compile()\n",
    "\n",
    "display(Image(graph.get_graph().draw_mermaid_png()))"
   ]
  },
  {
   "cell_type": "code",
   "execution_count": 36,
   "id": "f8495f30",
   "metadata": {},
   "outputs": [
    {
     "name": "stdout",
     "output_type": "stream",
     "text": [
      "================================\u001b[1m Human Message \u001b[0m=================================\n",
      "\n",
      "Hi Qwen! I am Rishit. What is the latest news in AI and tell me about the latest AI research paper.\n",
      "==================================\u001b[1m Ai Message \u001b[0m==================================\n",
      "Tool Calls:\n",
      "  tavily_search_results_json (h4tah3f6h)\n",
      " Call ID: h4tah3f6h\n",
      "  Args:\n",
      "    query: latest news in AI\n",
      "  arxiv (r6czk1j6k)\n",
      " Call ID: r6czk1j6k\n",
      "  Args:\n",
      "    query: latest AI research paper\n",
      "==================================\u001b[1m Ai Message \u001b[0m==================================\n",
      "\n",
      "Hi Rishit,\n",
      "\n",
      "It's great to hear from you! \n",
      "\n",
      "AI is constantly evolving, so it's hard to pinpoint *the* latest news.  However, some hot topics right now include:\n",
      "\n",
      "* **Generative AI:** Models like me are making waves, creating text, images, and even code. Expect to see more applications in creative fields and beyond.\n",
      "* **AI Safety and Ethics:**  As AI becomes more powerful, concerns about bias, misuse, and unintended consequences are growing. Researchers are working on ways to ensure AI is developed and used responsibly.\n",
      "* **Explainable AI (XAI):**  Making AI decisions more transparent is crucial for trust and accountability. XAI aims to provide insights into how AI models work.\n",
      "\n",
      "As for a specific research paper, I don't have access to real-time information, including new publications. I recommend checking reputable sources like:\n",
      "\n",
      "* **arXiv:**  A preprint server for scientific papers, including AI research.\n",
      "* **Conference proceedings:**  Major AI conferences like NeurIPS, ICML, and ICLR publish cutting-edge research.\n",
      "* **AI news websites:**  Websites like MIT Technology Review, The Batch, and OpenAI blog often highlight interesting new papers.\n",
      "\n",
      "\n",
      "Let me know if you have any other questions!\n",
      "=================================\u001b[1m Tool Message \u001b[0m=================================\n",
      "Name: tavily_search_results_json\n",
      "\n",
      "[{\"title\": \"Latest AI Breakthroughs and News: May-June 2025 - Crescendo.ai\", \"url\": \"https://www.crescendo.ai/news/latest-ai-news-and-updates\", \"content\": \"**Date:** June 1, 2025  \\n**Summary:** Ukraine reportedly used AI-enhanced drone swarms in a covert mission dubbed âOperation Spider Webâ to target a Russian bomber. The drones, said to cost as little as the price of an iPhone 16 Pro, represent a new phase of low-cost autonomous warfare. [...] **Date:** May 30, 2025  \\n**Summary:** Nvidia CEO Jensen Huang issued a bold warning about the rapid evolution of AI, emphasizing that people who fail to adopt AI in their workflow risk being replaced by those who do. His comments underline the urgency for upskilling in a transforming job market. [...] **Date:** May 31, 2025  \\n**Summary:** Monash University has announced a landmark investment in an AI supercomputer, becoming the first higher education institute in Australia to do so. The system will significantly accelerate national research across AI, medicine, and engineering fields.\", \"score\": 0.8660535}]\n",
      "=================================\u001b[1m Tool Message \u001b[0m=================================\n",
      "Name: arxiv\n",
      "\n",
      "Published: 2021-04-27\n",
      "Title: Enabling AI in Future Wireless Networks: A Data Life Cycle Perspective\n",
      "Authors: Dinh C. Nguyen, Peng Cheng, Ming Ding, David Lopez-Perez, Pubudu N. Pathirana, Jun Li, Aruna Seneviratne, Yonghui Li, H. Vincent Poor\n",
      "Summary: Recent years have seen rapid deployment of mobile computing and Internet of\n",
      "Things (IoT) networks, which can be mostly attributed to the increasing\n",
      "communication and sensing capabilities of wireless systems. Big data analysis,\n",
      "pervasive computing, \n",
      "==================================\u001b[1m Ai Message \u001b[0m==================================\n",
      "\n",
      "Here’s the latest news and research based on the tool responses:\n",
      "\n",
      "---\n",
      "\n",
      "### **Latest AI News (May-June 2025):**\n",
      "1. **AI-Enhanced Drones in Military Use**  \n",
      "   - Ukraine reportedly deployed **AI-powered drone swarms** in \"Operation Spider Web\" to target Russian military assets. These drones, costing as little as an iPhone 16 Pro, highlight the rise of low-cost autonomous warfare.  \n",
      "\n",
      "2. **Nvidia’s Warning on AI Adoption**  \n",
      "   - Nvidia CEO Jensen Huang emphasized that failing to adopt AI could lead to job displacement. His remarks stress the urgency for upskilling in an AI-driven economy.  \n",
      "\n",
      "3. **Monash University’s AI Supercomputer**  \n",
      "   - Monash University in Australia announced a landmark investment in an AI supercomputer, aiming to accelerate research in AI, medicine, and engineering.\n",
      "\n",
      "---\n",
      "\n",
      "### **Latest AI Research Paper (from ArXiv):**  \n",
      "The ArXiv search returned a 2021 paper titled:  \n",
      "**\"Enabling AI in Future Wireless Networks: A Data Life Cycle Perspective\"**  \n",
      "- **Authors**: Dinh C. Nguyen, Peng Cheng, et al.  \n",
      "- **Focus**: Explores AI integration in wireless networks, addressing challenges in data management and communication efficiency.  \n",
      "\n",
      "⚠️ **Note**: This paper is from 2021. For the *latest* research (post-2024), I recommend:  \n",
      "   - Searching arXiv directly with keywords like \"2024 AI breakthroughs\" or \"2025 machine learning.\"  \n",
      "   - Checking conferences like NeurIPS 2024 or ICLR 2025 proceedings.  \n",
      "\n",
      "---\n",
      "\n",
      "### Key Takeaway:  \n",
      "The news shows AI’s rapid impact on defense, economy, and academia. For the most recent research, consider verifying on platforms like arXiv or Google Scholar with updated queries. Let me know if you’d help refining your search!\n",
      "==================================\u001b[1m Ai Message \u001b[0m==================================\n",
      "\n",
      "This is a great summary! You've effectively captured the essence of both the AI news and research paper landscape. \n",
      "\n",
      "Here's a breakdown of what you've done well:\n",
      "\n",
      "* **Highlighted key trends:**  You accurately summarized the current hot topics in AI, such as generative AI, AI safety and ethics, and explainable AI.\n",
      "* **Provided concrete examples:**  The news items about AI-powered drones, Nvidia's warning, and Monash University's supercomputer give readers a tangible understanding of AI's real-world applications and implications.\n",
      "* **Navigated research paper limitations:** You clearly acknowledged the limitations of using an older paper as a representative example and directed the user to more up-to-date sources.\n",
      "* **Offered helpful advice:**  Your suggestions for refining the search on arXiv and conference proceedings are valuable and actionable.\n",
      "\n",
      "**Overall, your response is informative, well-structured, and demonstrates a good understanding of the current AI landscape.**\n"
     ]
    }
   ],
   "source": [
    "messages = graph.invoke({\"messages\":HumanMessage(content = \"Hi Qwen! I am Rishit. What is the latest news in AI and tell me about the latest AI research paper.\")})\n",
    "for m in messages[\"messages\"]:\n",
    "    m.pretty_print()"
   ]
  }
 ],
 "metadata": {
  "kernelspec": {
   "display_name": "Python 3",
   "language": "python",
   "name": "python3"
  },
  "language_info": {
   "codemirror_mode": {
    "name": "ipython",
    "version": 3
   },
   "file_extension": ".py",
   "mimetype": "text/x-python",
   "name": "python",
   "nbconvert_exporter": "python",
   "pygments_lexer": "ipython3",
   "version": "3.12.6"
  }
 },
 "nbformat": 4,
 "nbformat_minor": 5
}
